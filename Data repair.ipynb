{
 "cells": [
  {
   "cell_type": "markdown",
   "metadata": {},
   "source": [
    "# Imputing using a Machine Learning model\n",
    "\n",
    "This script explains how to impute missing data with a GBM model. The idea is to use a more sofisticated way for imputing than taking the mean, median or other basic imputing strategies. Here, a model will assign a value to every missing data from the selected feature based on the other features of every individual.\n",
    "\n",
    "We are going to impute the feature 'CarrierDelay' in the 'Airlines' open data set, that you can easily download from cell 2."
   ]
  },
  {
   "cell_type": "code",
   "execution_count": 67,
   "metadata": {},
   "outputs": [
    {
     "name": "stdout",
     "output_type": "stream",
     "text": [
      "Checking whether there is an H2O instance running at http://localhost:54321 . connected.\n",
      "Warning: Your H2O cluster version is too old (4 months and 6 days)! Please download and install the latest version from http://h2o.ai/download/\n"
     ]
    },
    {
     "data": {
      "text/html": [
       "<div style=\"overflow:auto\"><table style=\"width:50%\"><tr><td>H2O cluster uptime:</td>\n",
       "<td>44 mins 39 secs</td></tr>\n",
       "<tr><td>H2O cluster timezone:</td>\n",
       "<td>Europe/Paris</td></tr>\n",
       "<tr><td>H2O data parsing timezone:</td>\n",
       "<td>UTC</td></tr>\n",
       "<tr><td>H2O cluster version:</td>\n",
       "<td>3.24.0.1</td></tr>\n",
       "<tr><td>H2O cluster version age:</td>\n",
       "<td>4 months and 6 days !!!</td></tr>\n",
       "<tr><td>H2O cluster name:</td>\n",
       "<td>H2O_from_python_a_nogue_sanchez_vl8y04</td></tr>\n",
       "<tr><td>H2O cluster total nodes:</td>\n",
       "<td>1</td></tr>\n",
       "<tr><td>H2O cluster free memory:</td>\n",
       "<td>3.358 Gb</td></tr>\n",
       "<tr><td>H2O cluster total cores:</td>\n",
       "<td>4</td></tr>\n",
       "<tr><td>H2O cluster allowed cores:</td>\n",
       "<td>4</td></tr>\n",
       "<tr><td>H2O cluster status:</td>\n",
       "<td>locked, healthy</td></tr>\n",
       "<tr><td>H2O connection url:</td>\n",
       "<td>http://localhost:54321</td></tr>\n",
       "<tr><td>H2O connection proxy:</td>\n",
       "<td>None</td></tr>\n",
       "<tr><td>H2O internal security:</td>\n",
       "<td>False</td></tr>\n",
       "<tr><td>H2O API Extensions:</td>\n",
       "<td>Amazon S3, Algos, AutoML, Core V3, Core V4</td></tr>\n",
       "<tr><td>Python version:</td>\n",
       "<td>3.6.8 final</td></tr></table></div>"
      ],
      "text/plain": [
       "--------------------------  ------------------------------------------\n",
       "H2O cluster uptime:         44 mins 39 secs\n",
       "H2O cluster timezone:       Europe/Paris\n",
       "H2O data parsing timezone:  UTC\n",
       "H2O cluster version:        3.24.0.1\n",
       "H2O cluster version age:    4 months and 6 days !!!\n",
       "H2O cluster name:           H2O_from_python_a_nogue_sanchez_vl8y04\n",
       "H2O cluster total nodes:    1\n",
       "H2O cluster free memory:    3.358 Gb\n",
       "H2O cluster total cores:    4\n",
       "H2O cluster allowed cores:  4\n",
       "H2O cluster status:         locked, healthy\n",
       "H2O connection url:         http://localhost:54321\n",
       "H2O connection proxy:\n",
       "H2O internal security:      False\n",
       "H2O API Extensions:         Amazon S3, Algos, AutoML, Core V3, Core V4\n",
       "Python version:             3.6.8 final\n",
       "--------------------------  ------------------------------------------"
      ]
     },
     "metadata": {},
     "output_type": "display_data"
    }
   ],
   "source": [
    "import h2o\n",
    "import matplotlib.pyplot as plt\n",
    "%matplotlib inline\n",
    "h2o.init()"
   ]
  },
  {
   "cell_type": "code",
   "execution_count": 3,
   "metadata": {},
   "outputs": [
    {
     "name": "stdout",
     "output_type": "stream",
     "text": [
      "Parse progress: |█████████████████████████████████████████████████████████| 100%\n"
     ]
    }
   ],
   "source": [
    "data = h2o.import_file(\"http://h2o-public-test-data.s3.amazonaws.com/smalldata/airlines/allyears2k_headers.zip\")"
   ]
  },
  {
   "cell_type": "code",
   "execution_count": 38,
   "metadata": {},
   "outputs": [],
   "source": [
    "train, valid, test = data.split_frame([0.8,0.1], seed = 69)"
   ]
  },
  {
   "cell_type": "code",
   "execution_count": 39,
   "metadata": {},
   "outputs": [
    {
     "name": "stdout",
     "output_type": "stream",
     "text": [
      "35255/4272/4451\n"
     ]
    }
   ],
   "source": [
    "print(\"%d/%d/%d\" %(train.nrows, valid.nrow, test.nrow))"
   ]
  },
  {
   "cell_type": "code",
   "execution_count": 40,
   "metadata": {},
   "outputs": [
    {
     "name": "stdout",
     "output_type": "stream",
     "text": [
      "Rows:35255\n",
      "Cols:31\n",
      "\n",
      "\n"
     ]
    },
    {
     "data": {
      "text/html": [
       "<table>\n",
       "<thead>\n",
       "<tr><th>       </th><th>Year             </th><th>Month             </th><th>DayofMonth        </th><th>DayOfWeek         </th><th>DepTime          </th><th>CRSDepTime        </th><th>ArrTime           </th><th>CRSArrTime       </th><th>UniqueCarrier  </th><th>FlightNum        </th><th>TailNum  </th><th>ActualElapsedTime  </th><th>CRSElapsedTime    </th><th>AirTime          </th><th>ArrDelay          </th><th>DepDelay          </th><th>Origin  </th><th>Dest  </th><th>Distance         </th><th>TaxiIn           </th><th>TaxiOut           </th><th>Cancelled           </th><th>CancellationCode  </th><th>Diverted             </th><th>CarrierDelay      </th><th>WeatherDelay       </th><th>NASDelay          </th><th>SecurityDelay       </th><th>LateAircraftDelay  </th><th>IsArrDelayed  </th><th>IsDepDelayed  </th></tr>\n",
       "</thead>\n",
       "<tbody>\n",
       "<tr><td>type   </td><td>int              </td><td>int               </td><td>int               </td><td>int               </td><td>int              </td><td>int               </td><td>int               </td><td>int              </td><td>enum           </td><td>int              </td><td>enum     </td><td>int                </td><td>int               </td><td>int              </td><td>int               </td><td>int               </td><td>enum    </td><td>enum  </td><td>int              </td><td>int              </td><td>int               </td><td>int                 </td><td>enum              </td><td>int                  </td><td>int               </td><td>int                </td><td>int               </td><td>int                 </td><td>int                </td><td>enum          </td><td>enum          </td></tr>\n",
       "<tr><td>mins   </td><td>1987.0           </td><td>1.0               </td><td>1.0               </td><td>1.0               </td><td>1.0              </td><td>0.0               </td><td>1.0               </td><td>0.0              </td><td>               </td><td>1.0              </td><td>         </td><td>16.0               </td><td>17.0              </td><td>14.0             </td><td>-56.0             </td><td>-16.0             </td><td>        </td><td>      </td><td>11.0             </td><td>0.0              </td><td>0.0               </td><td>0.0                 </td><td>                  </td><td>0.0                  </td><td>0.0               </td><td>0.0                </td><td>0.0               </td><td>0.0                 </td><td>0.0                </td><td>              </td><td>              </td></tr>\n",
       "<tr><td>mean   </td><td>1997.483165508439</td><td>1.4064104382357108</td><td>14.584002269181694</td><td>3.819741880584325 </td><td>1346.660947451068</td><td>1313.8833640618345</td><td>1505.6385925018815</td><td>1485.912806694091</td><td>               </td><td>820.9546447312438</td><td>         </td><td>124.77907993703009 </td><td>124.95562868815239</td><td>114.4538812785392</td><td>9.370853011486245 </td><td>10.049931660220372</td><td>        </td><td>      </td><td>729.723665162226 </td><td>5.38020368054314 </td><td>14.176641357748952</td><td>0.024620621188483904</td><td>                  </td><td>0.0024110055311303362</td><td>3.945627802690573 </td><td>0.31586322869955114</td><td>4.713565022421537 </td><td>0.018497757847533637</td><td>7.56109865470851   </td><td>              </td><td>              </td></tr>\n",
       "<tr><td>maxs   </td><td>2008.0           </td><td>10.0              </td><td>31.0              </td><td>7.0               </td><td>2400.0           </td><td>2359.0            </td><td>2400.0            </td><td>2359.0           </td><td>               </td><td>3948.0           </td><td>         </td><td>451.0              </td><td>437.0             </td><td>402.0            </td><td>475.0             </td><td>473.0             </td><td>        </td><td>      </td><td>3365.0           </td><td>128.0            </td><td>254.0             </td><td>1.0                 </td><td>                  </td><td>1.0                  </td><td>285.0             </td><td>201.0              </td><td>323.0             </td><td>14.0                </td><td>373.0              </td><td>              </td><td>              </td></tr>\n",
       "<tr><td>sigma  </td><td>6.336133399053755</td><td>1.8688562189965314</td><td>9.169051694229854 </td><td>1.9106929912141295</td><td>465.2889932126702</td><td>476.1801378642373 </td><td>484.0922645749466 </td><td>492.548930763573 </td><td>               </td><td>778.5843238476255</td><td>         </td><td>73.96937479892875  </td><td>73.34759994323755 </td><td>69.72373724308498</td><td>30.092219695702365</td><td>26.628358637440808</td><td>        </td><td>      </td><td>577.9693297930754</td><td>4.261275831771775</td><td>9.88814656838973  </td><td>0.15496814958037275 </td><td>                  </td><td>0.04904345836226381  </td><td>15.455063616587742</td><td>4.801746416155396  </td><td>18.247371783397135</td><td>0.42939606485567877 </td><td>23.65009281413596  </td><td>              </td><td>              </td></tr>\n",
       "<tr><td>zeros  </td><td>0                </td><td>0                 </td><td>0                 </td><td>0                 </td><td>0                </td><td>460               </td><td>0                 </td><td>460              </td><td>               </td><td>0                </td><td>         </td><td>0                  </td><td>0                 </td><td>0                </td><td>1216              </td><td>5166              </td><td>        </td><td>      </td><td>0                </td><td>488              </td><td>437               </td><td>34387               </td><td>                  </td><td>35170                </td><td>5874              </td><td>7062               </td><td>5931              </td><td>7120                </td><td>5727               </td><td>              </td><td>              </td></tr>\n",
       "<tr><td>missing</td><td>0                </td><td>0                 </td><td>0                 </td><td>0                 </td><td>868              </td><td>0                 </td><td>953               </td><td>0                </td><td>0              </td><td>0                </td><td>27       </td><td>953                </td><td>7                 </td><td>13355            </td><td>953               </td><td>868               </td><td>0       </td><td>0     </td><td>26               </td><td>12867            </td><td>12865             </td><td>0                   </td><td>7801              </td><td>0                    </td><td>28119             </td><td>28119              </td><td>28119             </td><td>28119               </td><td>28119              </td><td>0             </td><td>0             </td></tr>\n",
       "<tr><td>0      </td><td>1987.0           </td><td>10.0              </td><td>14.0              </td><td>3.0               </td><td>741.0            </td><td>730.0             </td><td>912.0             </td><td>849.0            </td><td>PS             </td><td>1451.0           </td><td>NA       </td><td>91.0               </td><td>79.0              </td><td>nan              </td><td>23.0              </td><td>11.0              </td><td>SAN     </td><td>SFO   </td><td>447.0            </td><td>nan              </td><td>nan               </td><td>0.0                 </td><td>NA                </td><td>0.0                  </td><td>nan               </td><td>nan                </td><td>nan               </td><td>nan                 </td><td>nan                </td><td>YES           </td><td>YES           </td></tr>\n",
       "<tr><td>1      </td><td>1987.0           </td><td>10.0              </td><td>15.0              </td><td>4.0               </td><td>729.0            </td><td>730.0             </td><td>903.0             </td><td>849.0            </td><td>PS             </td><td>1451.0           </td><td>NA       </td><td>94.0               </td><td>79.0              </td><td>nan              </td><td>14.0              </td><td>-1.0              </td><td>SAN     </td><td>SFO   </td><td>447.0            </td><td>nan              </td><td>nan               </td><td>0.0                 </td><td>NA                </td><td>0.0                  </td><td>nan               </td><td>nan                </td><td>nan               </td><td>nan                 </td><td>nan                </td><td>YES           </td><td>NO            </td></tr>\n",
       "<tr><td>2      </td><td>1987.0           </td><td>10.0              </td><td>17.0              </td><td>6.0               </td><td>741.0            </td><td>730.0             </td><td>918.0             </td><td>849.0            </td><td>PS             </td><td>1451.0           </td><td>NA       </td><td>97.0               </td><td>79.0              </td><td>nan              </td><td>29.0              </td><td>11.0              </td><td>SAN     </td><td>SFO   </td><td>447.0            </td><td>nan              </td><td>nan               </td><td>0.0                 </td><td>NA                </td><td>0.0                  </td><td>nan               </td><td>nan                </td><td>nan               </td><td>nan                 </td><td>nan                </td><td>YES           </td><td>YES           </td></tr>\n",
       "<tr><td>3      </td><td>1987.0           </td><td>10.0              </td><td>18.0              </td><td>7.0               </td><td>729.0            </td><td>730.0             </td><td>847.0             </td><td>849.0            </td><td>PS             </td><td>1451.0           </td><td>NA       </td><td>78.0               </td><td>79.0              </td><td>nan              </td><td>-2.0              </td><td>-1.0              </td><td>SAN     </td><td>SFO   </td><td>447.0            </td><td>nan              </td><td>nan               </td><td>0.0                 </td><td>NA                </td><td>0.0                  </td><td>nan               </td><td>nan                </td><td>nan               </td><td>nan                 </td><td>nan                </td><td>NO            </td><td>NO            </td></tr>\n",
       "<tr><td>4      </td><td>1987.0           </td><td>10.0              </td><td>22.0              </td><td>4.0               </td><td>728.0            </td><td>730.0             </td><td>852.0             </td><td>849.0            </td><td>PS             </td><td>1451.0           </td><td>NA       </td><td>84.0               </td><td>79.0              </td><td>nan              </td><td>3.0               </td><td>-2.0              </td><td>SAN     </td><td>SFO   </td><td>447.0            </td><td>nan              </td><td>nan               </td><td>0.0                 </td><td>NA                </td><td>0.0                  </td><td>nan               </td><td>nan                </td><td>nan               </td><td>nan                 </td><td>nan                </td><td>YES           </td><td>NO            </td></tr>\n",
       "<tr><td>5      </td><td>1987.0           </td><td>10.0              </td><td>23.0              </td><td>5.0               </td><td>731.0            </td><td>730.0             </td><td>902.0             </td><td>849.0            </td><td>PS             </td><td>1451.0           </td><td>NA       </td><td>91.0               </td><td>79.0              </td><td>nan              </td><td>13.0              </td><td>1.0               </td><td>SAN     </td><td>SFO   </td><td>447.0            </td><td>nan              </td><td>nan               </td><td>0.0                 </td><td>NA                </td><td>0.0                  </td><td>nan               </td><td>nan                </td><td>nan               </td><td>nan                 </td><td>nan                </td><td>YES           </td><td>YES           </td></tr>\n",
       "<tr><td>6      </td><td>1987.0           </td><td>10.0              </td><td>24.0              </td><td>6.0               </td><td>744.0            </td><td>730.0             </td><td>908.0             </td><td>849.0            </td><td>PS             </td><td>1451.0           </td><td>NA       </td><td>84.0               </td><td>79.0              </td><td>nan              </td><td>19.0              </td><td>14.0              </td><td>SAN     </td><td>SFO   </td><td>447.0            </td><td>nan              </td><td>nan               </td><td>0.0                 </td><td>NA                </td><td>0.0                  </td><td>nan               </td><td>nan                </td><td>nan               </td><td>nan                 </td><td>nan                </td><td>YES           </td><td>YES           </td></tr>\n",
       "<tr><td>7      </td><td>1987.0           </td><td>10.0              </td><td>25.0              </td><td>7.0               </td><td>729.0            </td><td>730.0             </td><td>851.0             </td><td>849.0            </td><td>PS             </td><td>1451.0           </td><td>NA       </td><td>82.0               </td><td>79.0              </td><td>nan              </td><td>2.0               </td><td>-1.0              </td><td>SAN     </td><td>SFO   </td><td>447.0            </td><td>nan              </td><td>nan               </td><td>0.0                 </td><td>NA                </td><td>0.0                  </td><td>nan               </td><td>nan                </td><td>nan               </td><td>nan                 </td><td>nan                </td><td>YES           </td><td>NO            </td></tr>\n",
       "<tr><td>8      </td><td>1987.0           </td><td>10.0              </td><td>26.0              </td><td>1.0               </td><td>735.0            </td><td>730.0             </td><td>904.0             </td><td>849.0            </td><td>PS             </td><td>1451.0           </td><td>NA       </td><td>89.0               </td><td>79.0              </td><td>nan              </td><td>15.0              </td><td>5.0               </td><td>SAN     </td><td>SFO   </td><td>447.0            </td><td>nan              </td><td>nan               </td><td>0.0                 </td><td>NA                </td><td>0.0                  </td><td>nan               </td><td>nan                </td><td>nan               </td><td>nan                 </td><td>nan                </td><td>YES           </td><td>YES           </td></tr>\n",
       "<tr><td>9      </td><td>1987.0           </td><td>10.0              </td><td>28.0              </td><td>3.0               </td><td>741.0            </td><td>725.0             </td><td>919.0             </td><td>855.0            </td><td>PS             </td><td>1451.0           </td><td>NA       </td><td>98.0               </td><td>90.0              </td><td>nan              </td><td>24.0              </td><td>16.0              </td><td>SAN     </td><td>SFO   </td><td>447.0            </td><td>nan              </td><td>nan               </td><td>0.0                 </td><td>NA                </td><td>0.0                  </td><td>nan               </td><td>nan                </td><td>nan               </td><td>nan                 </td><td>nan                </td><td>YES           </td><td>YES           </td></tr>\n",
       "</tbody>\n",
       "</table>"
      ]
     },
     "metadata": {},
     "output_type": "display_data"
    }
   ],
   "source": [
    "train.describe()"
   ]
  },
  {
   "cell_type": "markdown",
   "metadata": {},
   "source": [
    "### Examine the carrier delay"
   ]
  },
  {
   "cell_type": "code",
   "execution_count": 41,
   "metadata": {},
   "outputs": [
    {
     "data": {
      "text/html": [
       "<div>\n",
       "<style scoped>\n",
       "    .dataframe tbody tr th:only-of-type {\n",
       "        vertical-align: middle;\n",
       "    }\n",
       "\n",
       "    .dataframe tbody tr th {\n",
       "        vertical-align: top;\n",
       "    }\n",
       "\n",
       "    .dataframe thead th {\n",
       "        text-align: right;\n",
       "    }\n",
       "</style>\n",
       "<table border=\"1\" class=\"dataframe\">\n",
       "  <thead>\n",
       "    <tr style=\"text-align: right;\">\n",
       "      <th></th>\n",
       "      <th>Year</th>\n",
       "      <th>mean_CarrierDelay</th>\n",
       "    </tr>\n",
       "  </thead>\n",
       "  <tbody>\n",
       "    <tr>\n",
       "      <th>0</th>\n",
       "      <td>1987</td>\n",
       "      <td>NaN</td>\n",
       "    </tr>\n",
       "    <tr>\n",
       "      <th>1</th>\n",
       "      <td>1988</td>\n",
       "      <td>NaN</td>\n",
       "    </tr>\n",
       "    <tr>\n",
       "      <th>2</th>\n",
       "      <td>1989</td>\n",
       "      <td>NaN</td>\n",
       "    </tr>\n",
       "    <tr>\n",
       "      <th>3</th>\n",
       "      <td>1990</td>\n",
       "      <td>NaN</td>\n",
       "    </tr>\n",
       "    <tr>\n",
       "      <th>4</th>\n",
       "      <td>1991</td>\n",
       "      <td>NaN</td>\n",
       "    </tr>\n",
       "    <tr>\n",
       "      <th>5</th>\n",
       "      <td>1992</td>\n",
       "      <td>NaN</td>\n",
       "    </tr>\n",
       "    <tr>\n",
       "      <th>6</th>\n",
       "      <td>1993</td>\n",
       "      <td>NaN</td>\n",
       "    </tr>\n",
       "    <tr>\n",
       "      <th>7</th>\n",
       "      <td>1994</td>\n",
       "      <td>NaN</td>\n",
       "    </tr>\n",
       "    <tr>\n",
       "      <th>8</th>\n",
       "      <td>1995</td>\n",
       "      <td>NaN</td>\n",
       "    </tr>\n",
       "    <tr>\n",
       "      <th>9</th>\n",
       "      <td>1996</td>\n",
       "      <td>NaN</td>\n",
       "    </tr>\n",
       "    <tr>\n",
       "      <th>10</th>\n",
       "      <td>1997</td>\n",
       "      <td>NaN</td>\n",
       "    </tr>\n",
       "    <tr>\n",
       "      <th>11</th>\n",
       "      <td>1998</td>\n",
       "      <td>NaN</td>\n",
       "    </tr>\n",
       "    <tr>\n",
       "      <th>12</th>\n",
       "      <td>1999</td>\n",
       "      <td>NaN</td>\n",
       "    </tr>\n",
       "    <tr>\n",
       "      <th>13</th>\n",
       "      <td>2000</td>\n",
       "      <td>NaN</td>\n",
       "    </tr>\n",
       "    <tr>\n",
       "      <th>14</th>\n",
       "      <td>2001</td>\n",
       "      <td>NaN</td>\n",
       "    </tr>\n",
       "    <tr>\n",
       "      <th>15</th>\n",
       "      <td>2002</td>\n",
       "      <td>NaN</td>\n",
       "    </tr>\n",
       "    <tr>\n",
       "      <th>16</th>\n",
       "      <td>2003</td>\n",
       "      <td>NaN</td>\n",
       "    </tr>\n",
       "    <tr>\n",
       "      <th>17</th>\n",
       "      <td>2004</td>\n",
       "      <td>2.660272</td>\n",
       "    </tr>\n",
       "    <tr>\n",
       "      <th>18</th>\n",
       "      <td>2005</td>\n",
       "      <td>4.416667</td>\n",
       "    </tr>\n",
       "    <tr>\n",
       "      <th>19</th>\n",
       "      <td>2006</td>\n",
       "      <td>1.523720</td>\n",
       "    </tr>\n",
       "    <tr>\n",
       "      <th>20</th>\n",
       "      <td>2007</td>\n",
       "      <td>2.033063</td>\n",
       "    </tr>\n",
       "    <tr>\n",
       "      <th>21</th>\n",
       "      <td>2008</td>\n",
       "      <td>15.268126</td>\n",
       "    </tr>\n",
       "  </tbody>\n",
       "</table>\n",
       "</div>"
      ],
      "text/plain": [
       "    Year  mean_CarrierDelay\n",
       "0   1987                NaN\n",
       "1   1988                NaN\n",
       "2   1989                NaN\n",
       "3   1990                NaN\n",
       "4   1991                NaN\n",
       "5   1992                NaN\n",
       "6   1993                NaN\n",
       "7   1994                NaN\n",
       "8   1995                NaN\n",
       "9   1996                NaN\n",
       "10  1997                NaN\n",
       "11  1998                NaN\n",
       "12  1999                NaN\n",
       "13  2000                NaN\n",
       "14  2001                NaN\n",
       "15  2002                NaN\n",
       "16  2003                NaN\n",
       "17  2004           2.660272\n",
       "18  2005           4.416667\n",
       "19  2006           1.523720\n",
       "20  2007           2.033063\n",
       "21  2008          15.268126"
      ]
     },
     "execution_count": 41,
     "metadata": {},
     "output_type": "execute_result"
    }
   ],
   "source": [
    "train.group_by('Year').mean(col='CarrierDelay', na='rm').get_frame().as_data_frame()\n",
    "# We can see that missing data came before 2004, where we guess data was not recorded\n",
    "# Investigate as well what happened in 2008."
   ]
  },
  {
   "cell_type": "code",
   "execution_count": 42,
   "metadata": {},
   "outputs": [
    {
     "data": {
      "text/html": [
       "<table>\n",
       "<thead>\n",
       "<tr><th style=\"text-align: right;\">  CarrierDelay</th><th style=\"text-align: right;\">  Count</th></tr>\n",
       "</thead>\n",
       "<tbody>\n",
       "<tr><td style=\"text-align: right;\">             0</td><td style=\"text-align: right;\">   5874</td></tr>\n",
       "<tr><td style=\"text-align: right;\">             1</td><td style=\"text-align: right;\">     45</td></tr>\n",
       "<tr><td style=\"text-align: right;\">             2</td><td style=\"text-align: right;\">     44</td></tr>\n",
       "<tr><td style=\"text-align: right;\">             3</td><td style=\"text-align: right;\">     54</td></tr>\n",
       "<tr><td style=\"text-align: right;\">             4</td><td style=\"text-align: right;\">     48</td></tr>\n",
       "<tr><td style=\"text-align: right;\">             5</td><td style=\"text-align: right;\">     50</td></tr>\n",
       "<tr><td style=\"text-align: right;\">             6</td><td style=\"text-align: right;\">     52</td></tr>\n",
       "<tr><td style=\"text-align: right;\">             7</td><td style=\"text-align: right;\">     50</td></tr>\n",
       "<tr><td style=\"text-align: right;\">             8</td><td style=\"text-align: right;\">     53</td></tr>\n",
       "<tr><td style=\"text-align: right;\">             9</td><td style=\"text-align: right;\">     59</td></tr>\n",
       "</tbody>\n",
       "</table>"
      ]
     },
     "metadata": {},
     "output_type": "display_data"
    },
    {
     "data": {
      "text/plain": []
     },
     "execution_count": 42,
     "metadata": {},
     "output_type": "execute_result"
    }
   ],
   "source": [
    "# Investigate the shape of the data\n",
    "train['CarrierDelay'].table()"
   ]
  },
  {
   "cell_type": "markdown",
   "metadata": {},
   "source": [
    "### Is it correlated with values we do have values for?"
   ]
  },
  {
   "cell_type": "code",
   "execution_count": 43,
   "metadata": {},
   "outputs": [
    {
     "data": {
      "text/plain": [
       "0.5214790427185322"
      ]
     },
     "execution_count": 43,
     "metadata": {},
     "output_type": "execute_result"
    }
   ],
   "source": [
    "# We guesses carrier delay might be correlated with dep delay, so let's look\n",
    "train['CarrierDelay'].cor(train['DepDelay'],na_rm=True) # add na_rm = True, otherwise missing vales will throw an error"
   ]
  },
  {
   "cell_type": "markdown",
   "metadata": {},
   "source": [
    "### GBM\n",
    "We are going to train a GBM model to predict Carrier Delay"
   ]
  },
  {
   "cell_type": "code",
   "execution_count": 44,
   "metadata": {},
   "outputs": [],
   "source": [
    "from h2o.estimators.gbm import H2OGradientBoostingEstimator"
   ]
  },
  {
   "cell_type": "code",
   "execution_count": 45,
   "metadata": {},
   "outputs": [],
   "source": [
    "y = 'CarrierDelay'\n",
    "ignoreFields = ['TailNum'] # high cardinality, (presumed) low information\n",
    "x = [i for i in train.names if i not in ignoreFields]"
   ]
  },
  {
   "cell_type": "code",
   "execution_count": 46,
   "metadata": {},
   "outputs": [],
   "source": [
    "bad_rowsT = train[y].isna()\n",
    "bad_rowsV = valid[y].isna()"
   ]
  },
  {
   "cell_type": "code",
   "execution_count": 48,
   "metadata": {},
   "outputs": [],
   "source": [
    "# 'Good' means has CarrierDelay set, 'bad' means  it is missing\n",
    "train_good = train[bad_rowsT.logical_negation(),:]\n",
    "valid_good = valid[bad_rowsV.logical_negation(),:]\n",
    "train_bad = train[bad_rowsT,:]\n",
    "valid_bad = valid[bad_rowsV,:]"
   ]
  },
  {
   "cell_type": "code",
   "execution_count": 51,
   "metadata": {},
   "outputs": [
    {
     "name": "stdout",
     "output_type": "stream",
     "text": [
      "Good values: train = 7136/35255, valid = 911/4272\n"
     ]
    }
   ],
   "source": [
    "print(\"Good values: train = %d/%d, valid = %d/%d\" % (train_good.nrow, train_bad.nrow+train_good.nrow, valid_good.nrow, valid_bad.nrow+valid_good.nrow))"
   ]
  },
  {
   "cell_type": "code",
   "execution_count": 54,
   "metadata": {},
   "outputs": [
    {
     "name": "stdout",
     "output_type": "stream",
     "text": [
      "gbm Model Build progress: |███████████████████████████████████████████████| 100%\n"
     ]
    }
   ],
   "source": [
    "m_GBM_g = H2OGradientBoostingEstimator(distribution = 'gamma')\n",
    "m_GBM_g.train(x, y, train_good, validation_frame = valid_good)"
   ]
  },
  {
   "cell_type": "code",
   "execution_count": 56,
   "metadata": {},
   "outputs": [
    {
     "name": "stdout",
     "output_type": "stream",
     "text": [
      "gbm prediction progress: |████████████████████████████████████████████████| 100%\n"
     ]
    }
   ],
   "source": [
    "# We are going to predict the missing values in the train bad data frame. \n",
    "# We floor predictions as they are integers in the original data\n",
    "new_values = m_GBM_g.predict(train_bad).floor()"
   ]
  },
  {
   "cell_type": "code",
   "execution_count": 58,
   "metadata": {},
   "outputs": [],
   "source": [
    "new_values.columns = [y]"
   ]
  },
  {
   "cell_type": "code",
   "execution_count": 62,
   "metadata": {},
   "outputs": [
    {
     "name": "stdout",
     "output_type": "stream",
     "text": [
      "Rows:7136\n",
      "Cols:1\n",
      "\n",
      "\n"
     ]
    },
    {
     "data": {
      "text/html": [
       "<table>\n",
       "<thead>\n",
       "<tr><th>       </th><th>CarrierDelay      </th></tr>\n",
       "</thead>\n",
       "<tbody>\n",
       "<tr><td>type   </td><td>int               </td></tr>\n",
       "<tr><td>mins   </td><td>0.0               </td></tr>\n",
       "<tr><td>mean   </td><td>3.945627802690573 </td></tr>\n",
       "<tr><td>maxs   </td><td>285.0             </td></tr>\n",
       "<tr><td>sigma  </td><td>15.455063616587742</td></tr>\n",
       "<tr><td>zeros  </td><td>5874              </td></tr>\n",
       "<tr><td>missing</td><td>0                 </td></tr>\n",
       "<tr><td>0      </td><td>0.0               </td></tr>\n",
       "<tr><td>1      </td><td>0.0               </td></tr>\n",
       "<tr><td>2      </td><td>0.0               </td></tr>\n",
       "<tr><td>3      </td><td>0.0               </td></tr>\n",
       "<tr><td>4      </td><td>0.0               </td></tr>\n",
       "<tr><td>5      </td><td>0.0               </td></tr>\n",
       "<tr><td>6      </td><td>20.0              </td></tr>\n",
       "<tr><td>7      </td><td>0.0               </td></tr>\n",
       "<tr><td>8      </td><td>0.0               </td></tr>\n",
       "<tr><td>9      </td><td>0.0               </td></tr>\n",
       "</tbody>\n",
       "</table>"
      ]
     },
     "metadata": {},
     "output_type": "display_data"
    }
   ],
   "source": [
    "train_good[y].describe()"
   ]
  },
  {
   "cell_type": "code",
   "execution_count": 64,
   "metadata": {},
   "outputs": [
    {
     "name": "stdout",
     "output_type": "stream",
     "text": [
      "Rows:28119\n",
      "Cols:1\n",
      "\n",
      "\n"
     ]
    },
    {
     "data": {
      "text/html": [
       "<table>\n",
       "<thead>\n",
       "<tr><th>       </th><th>CarrierDelay      </th></tr>\n",
       "</thead>\n",
       "<tbody>\n",
       "<tr><td>type   </td><td>int               </td></tr>\n",
       "<tr><td>mins   </td><td>0.0               </td></tr>\n",
       "<tr><td>mean   </td><td>0.8930971940680739</td></tr>\n",
       "<tr><td>maxs   </td><td>25.0              </td></tr>\n",
       "<tr><td>sigma  </td><td>2.2248159878655906</td></tr>\n",
       "<tr><td>zeros  </td><td>23350             </td></tr>\n",
       "<tr><td>missing</td><td>0                 </td></tr>\n",
       "<tr><td>0      </td><td>3.0               </td></tr>\n",
       "<tr><td>1      </td><td>0.0               </td></tr>\n",
       "<tr><td>2      </td><td>3.0               </td></tr>\n",
       "<tr><td>3      </td><td>0.0               </td></tr>\n",
       "<tr><td>4      </td><td>0.0               </td></tr>\n",
       "<tr><td>5      </td><td>0.0               </td></tr>\n",
       "<tr><td>6      </td><td>3.0               </td></tr>\n",
       "<tr><td>7      </td><td>0.0               </td></tr>\n",
       "<tr><td>8      </td><td>0.0               </td></tr>\n",
       "<tr><td>9      </td><td>3.0               </td></tr>\n",
       "</tbody>\n",
       "</table>"
      ]
     },
     "metadata": {},
     "output_type": "display_data"
    }
   ],
   "source": [
    "new_values.describe()"
   ]
  },
  {
   "cell_type": "code",
   "execution_count": 65,
   "metadata": {},
   "outputs": [],
   "source": [
    "# Replace the empty data by our gbm predictions\n",
    "train_bad[y] = new_values\n",
    "train2 = train_good.rbind(train_bad)"
   ]
  },
  {
   "cell_type": "code",
   "execution_count": 66,
   "metadata": {},
   "outputs": [
    {
     "name": "stdout",
     "output_type": "stream",
     "text": [
      "Rows:35255\n",
      "Cols:31\n",
      "\n",
      "\n"
     ]
    },
    {
     "data": {
      "text/html": [
       "<table>\n",
       "<thead>\n",
       "<tr><th>       </th><th>Year             </th><th>Month             </th><th>DayofMonth        </th><th>DayOfWeek         </th><th>DepTime          </th><th>CRSDepTime        </th><th>ArrTime           </th><th>CRSArrTime       </th><th>UniqueCarrier  </th><th>FlightNum        </th><th>TailNum  </th><th>ActualElapsedTime  </th><th>CRSElapsedTime    </th><th>AirTime          </th><th>ArrDelay          </th><th>DepDelay          </th><th>Origin  </th><th>Dest  </th><th>Distance         </th><th>TaxiIn           </th><th>TaxiOut           </th><th>Cancelled           </th><th>CancellationCode  </th><th>Diverted             </th><th>CarrierDelay      </th><th>WeatherDelay       </th><th>NASDelay          </th><th>SecurityDelay       </th><th>LateAircraftDelay  </th><th>IsArrDelayed  </th><th>IsDepDelayed  </th></tr>\n",
       "</thead>\n",
       "<tbody>\n",
       "<tr><td>type   </td><td>int              </td><td>int               </td><td>int               </td><td>int               </td><td>int              </td><td>int               </td><td>int               </td><td>int              </td><td>enum           </td><td>int              </td><td>enum     </td><td>int                </td><td>int               </td><td>int              </td><td>int               </td><td>int               </td><td>enum    </td><td>enum  </td><td>int              </td><td>int              </td><td>int               </td><td>int                 </td><td>enum              </td><td>int                  </td><td>int               </td><td>int                </td><td>int               </td><td>int                 </td><td>int                </td><td>enum          </td><td>enum          </td></tr>\n",
       "<tr><td>mins   </td><td>1987.0           </td><td>1.0               </td><td>1.0               </td><td>1.0               </td><td>1.0              </td><td>0.0               </td><td>1.0               </td><td>0.0              </td><td>               </td><td>1.0              </td><td>         </td><td>16.0               </td><td>17.0              </td><td>14.0             </td><td>-56.0             </td><td>-16.0             </td><td>        </td><td>      </td><td>11.0             </td><td>0.0              </td><td>0.0               </td><td>0.0                 </td><td>                  </td><td>0.0                  </td><td>0.0               </td><td>0.0                </td><td>0.0               </td><td>0.0                 </td><td>0.0                </td><td>              </td><td>              </td></tr>\n",
       "<tr><td>mean   </td><td>1997.483165508439</td><td>1.4064104382357108</td><td>14.584002269181694</td><td>3.819741880584325 </td><td>1346.660947451068</td><td>1313.8833640618345</td><td>1505.6385925018815</td><td>1485.912806694091</td><td>               </td><td>820.9546447312438</td><td>         </td><td>124.77907993703009 </td><td>124.95562868815239</td><td>114.4538812785392</td><td>9.370853011486245 </td><td>10.049931660220372</td><td>        </td><td>      </td><td>729.723665162226 </td><td>5.38020368054314 </td><td>14.176641357748952</td><td>0.024620621188483904</td><td>                  </td><td>0.0024110055311303362</td><td>3.945627802690573 </td><td>0.31586322869955114</td><td>4.713565022421537 </td><td>0.018497757847533637</td><td>7.56109865470851   </td><td>              </td><td>              </td></tr>\n",
       "<tr><td>maxs   </td><td>2008.0           </td><td>10.0              </td><td>31.0              </td><td>7.0               </td><td>2400.0           </td><td>2359.0            </td><td>2400.0            </td><td>2359.0           </td><td>               </td><td>3948.0           </td><td>         </td><td>451.0              </td><td>437.0             </td><td>402.0            </td><td>475.0             </td><td>473.0             </td><td>        </td><td>      </td><td>3365.0           </td><td>128.0            </td><td>254.0             </td><td>1.0                 </td><td>                  </td><td>1.0                  </td><td>285.0             </td><td>201.0              </td><td>323.0             </td><td>14.0                </td><td>373.0              </td><td>              </td><td>              </td></tr>\n",
       "<tr><td>sigma  </td><td>6.336133399053755</td><td>1.8688562189965314</td><td>9.169051694229854 </td><td>1.9106929912141295</td><td>465.2889932126702</td><td>476.1801378642373 </td><td>484.0922645749466 </td><td>492.548930763573 </td><td>               </td><td>778.5843238476255</td><td>         </td><td>73.96937479892875  </td><td>73.34759994323755 </td><td>69.72373724308498</td><td>30.092219695702365</td><td>26.628358637440808</td><td>        </td><td>      </td><td>577.9693297930754</td><td>4.261275831771775</td><td>9.88814656838973  </td><td>0.15496814958037275 </td><td>                  </td><td>0.04904345836226381  </td><td>15.455063616587742</td><td>4.801746416155396  </td><td>18.247371783397135</td><td>0.42939606485567877 </td><td>23.65009281413596  </td><td>              </td><td>              </td></tr>\n",
       "<tr><td>zeros  </td><td>0                </td><td>0                 </td><td>0                 </td><td>0                 </td><td>0                </td><td>460               </td><td>0                 </td><td>460              </td><td>               </td><td>0                </td><td>         </td><td>0                  </td><td>0                 </td><td>0                </td><td>1216              </td><td>5166              </td><td>        </td><td>      </td><td>0                </td><td>488              </td><td>437               </td><td>34387               </td><td>                  </td><td>35170                </td><td>5874              </td><td>7062               </td><td>5931              </td><td>7120                </td><td>5727               </td><td>              </td><td>              </td></tr>\n",
       "<tr><td>missing</td><td>0                </td><td>0                 </td><td>0                 </td><td>0                 </td><td>868              </td><td>0                 </td><td>953               </td><td>0                </td><td>0              </td><td>0                </td><td>27       </td><td>953                </td><td>7                 </td><td>13355            </td><td>953               </td><td>868               </td><td>0       </td><td>0     </td><td>26               </td><td>12867            </td><td>12865             </td><td>0                   </td><td>7801              </td><td>0                    </td><td>28119             </td><td>28119              </td><td>28119             </td><td>28119               </td><td>28119              </td><td>0             </td><td>0             </td></tr>\n",
       "<tr><td>0      </td><td>1987.0           </td><td>10.0              </td><td>14.0              </td><td>3.0               </td><td>741.0            </td><td>730.0             </td><td>912.0             </td><td>849.0            </td><td>PS             </td><td>1451.0           </td><td>NA       </td><td>91.0               </td><td>79.0              </td><td>nan              </td><td>23.0              </td><td>11.0              </td><td>SAN     </td><td>SFO   </td><td>447.0            </td><td>nan              </td><td>nan               </td><td>0.0                 </td><td>NA                </td><td>0.0                  </td><td>nan               </td><td>nan                </td><td>nan               </td><td>nan                 </td><td>nan                </td><td>YES           </td><td>YES           </td></tr>\n",
       "<tr><td>1      </td><td>1987.0           </td><td>10.0              </td><td>15.0              </td><td>4.0               </td><td>729.0            </td><td>730.0             </td><td>903.0             </td><td>849.0            </td><td>PS             </td><td>1451.0           </td><td>NA       </td><td>94.0               </td><td>79.0              </td><td>nan              </td><td>14.0              </td><td>-1.0              </td><td>SAN     </td><td>SFO   </td><td>447.0            </td><td>nan              </td><td>nan               </td><td>0.0                 </td><td>NA                </td><td>0.0                  </td><td>nan               </td><td>nan                </td><td>nan               </td><td>nan                 </td><td>nan                </td><td>YES           </td><td>NO            </td></tr>\n",
       "<tr><td>2      </td><td>1987.0           </td><td>10.0              </td><td>17.0              </td><td>6.0               </td><td>741.0            </td><td>730.0             </td><td>918.0             </td><td>849.0            </td><td>PS             </td><td>1451.0           </td><td>NA       </td><td>97.0               </td><td>79.0              </td><td>nan              </td><td>29.0              </td><td>11.0              </td><td>SAN     </td><td>SFO   </td><td>447.0            </td><td>nan              </td><td>nan               </td><td>0.0                 </td><td>NA                </td><td>0.0                  </td><td>nan               </td><td>nan                </td><td>nan               </td><td>nan                 </td><td>nan                </td><td>YES           </td><td>YES           </td></tr>\n",
       "<tr><td>3      </td><td>1987.0           </td><td>10.0              </td><td>18.0              </td><td>7.0               </td><td>729.0            </td><td>730.0             </td><td>847.0             </td><td>849.0            </td><td>PS             </td><td>1451.0           </td><td>NA       </td><td>78.0               </td><td>79.0              </td><td>nan              </td><td>-2.0              </td><td>-1.0              </td><td>SAN     </td><td>SFO   </td><td>447.0            </td><td>nan              </td><td>nan               </td><td>0.0                 </td><td>NA                </td><td>0.0                  </td><td>nan               </td><td>nan                </td><td>nan               </td><td>nan                 </td><td>nan                </td><td>NO            </td><td>NO            </td></tr>\n",
       "<tr><td>4      </td><td>1987.0           </td><td>10.0              </td><td>22.0              </td><td>4.0               </td><td>728.0            </td><td>730.0             </td><td>852.0             </td><td>849.0            </td><td>PS             </td><td>1451.0           </td><td>NA       </td><td>84.0               </td><td>79.0              </td><td>nan              </td><td>3.0               </td><td>-2.0              </td><td>SAN     </td><td>SFO   </td><td>447.0            </td><td>nan              </td><td>nan               </td><td>0.0                 </td><td>NA                </td><td>0.0                  </td><td>nan               </td><td>nan                </td><td>nan               </td><td>nan                 </td><td>nan                </td><td>YES           </td><td>NO            </td></tr>\n",
       "<tr><td>5      </td><td>1987.0           </td><td>10.0              </td><td>23.0              </td><td>5.0               </td><td>731.0            </td><td>730.0             </td><td>902.0             </td><td>849.0            </td><td>PS             </td><td>1451.0           </td><td>NA       </td><td>91.0               </td><td>79.0              </td><td>nan              </td><td>13.0              </td><td>1.0               </td><td>SAN     </td><td>SFO   </td><td>447.0            </td><td>nan              </td><td>nan               </td><td>0.0                 </td><td>NA                </td><td>0.0                  </td><td>nan               </td><td>nan                </td><td>nan               </td><td>nan                 </td><td>nan                </td><td>YES           </td><td>YES           </td></tr>\n",
       "<tr><td>6      </td><td>1987.0           </td><td>10.0              </td><td>24.0              </td><td>6.0               </td><td>744.0            </td><td>730.0             </td><td>908.0             </td><td>849.0            </td><td>PS             </td><td>1451.0           </td><td>NA       </td><td>84.0               </td><td>79.0              </td><td>nan              </td><td>19.0              </td><td>14.0              </td><td>SAN     </td><td>SFO   </td><td>447.0            </td><td>nan              </td><td>nan               </td><td>0.0                 </td><td>NA                </td><td>0.0                  </td><td>nan               </td><td>nan                </td><td>nan               </td><td>nan                 </td><td>nan                </td><td>YES           </td><td>YES           </td></tr>\n",
       "<tr><td>7      </td><td>1987.0           </td><td>10.0              </td><td>25.0              </td><td>7.0               </td><td>729.0            </td><td>730.0             </td><td>851.0             </td><td>849.0            </td><td>PS             </td><td>1451.0           </td><td>NA       </td><td>82.0               </td><td>79.0              </td><td>nan              </td><td>2.0               </td><td>-1.0              </td><td>SAN     </td><td>SFO   </td><td>447.0            </td><td>nan              </td><td>nan               </td><td>0.0                 </td><td>NA                </td><td>0.0                  </td><td>nan               </td><td>nan                </td><td>nan               </td><td>nan                 </td><td>nan                </td><td>YES           </td><td>NO            </td></tr>\n",
       "<tr><td>8      </td><td>1987.0           </td><td>10.0              </td><td>26.0              </td><td>1.0               </td><td>735.0            </td><td>730.0             </td><td>904.0             </td><td>849.0            </td><td>PS             </td><td>1451.0           </td><td>NA       </td><td>89.0               </td><td>79.0              </td><td>nan              </td><td>15.0              </td><td>5.0               </td><td>SAN     </td><td>SFO   </td><td>447.0            </td><td>nan              </td><td>nan               </td><td>0.0                 </td><td>NA                </td><td>0.0                  </td><td>nan               </td><td>nan                </td><td>nan               </td><td>nan                 </td><td>nan                </td><td>YES           </td><td>YES           </td></tr>\n",
       "<tr><td>9      </td><td>1987.0           </td><td>10.0              </td><td>28.0              </td><td>3.0               </td><td>741.0            </td><td>725.0             </td><td>919.0             </td><td>855.0            </td><td>PS             </td><td>1451.0           </td><td>NA       </td><td>98.0               </td><td>90.0              </td><td>nan              </td><td>24.0              </td><td>16.0              </td><td>SAN     </td><td>SFO   </td><td>447.0            </td><td>nan              </td><td>nan               </td><td>0.0                 </td><td>NA                </td><td>0.0                  </td><td>nan               </td><td>nan                </td><td>nan               </td><td>nan                 </td><td>nan                </td><td>YES           </td><td>YES           </td></tr>\n",
       "</tbody>\n",
       "</table>"
      ]
     },
     "metadata": {},
     "output_type": "display_data"
    },
    {
     "name": "stdout",
     "output_type": "stream",
     "text": [
      "Rows:35255\n",
      "Cols:31\n",
      "\n",
      "\n"
     ]
    },
    {
     "data": {
      "text/html": [
       "<table>\n",
       "<thead>\n",
       "<tr><th>       </th><th>Year              </th><th>Month             </th><th>DayofMonth        </th><th>DayOfWeek         </th><th>DepTime           </th><th>CRSDepTime        </th><th>ArrTime           </th><th>CRSArrTime       </th><th>UniqueCarrier  </th><th>FlightNum        </th><th>TailNum  </th><th>ActualElapsedTime  </th><th>CRSElapsedTime    </th><th>AirTime          </th><th>ArrDelay          </th><th>DepDelay          </th><th>Origin  </th><th>Dest  </th><th>Distance         </th><th>TaxiIn           </th><th>TaxiOut          </th><th>Cancelled           </th><th>CancellationCode  </th><th>Diverted             </th><th>CarrierDelay      </th><th>WeatherDelay       </th><th>NASDelay          </th><th>SecurityDelay       </th><th>LateAircraftDelay  </th><th>IsArrDelayed  </th><th>IsDepDelayed  </th></tr>\n",
       "</thead>\n",
       "<tbody>\n",
       "<tr><td>type   </td><td>int               </td><td>int               </td><td>int               </td><td>int               </td><td>int               </td><td>int               </td><td>int               </td><td>int              </td><td>enum           </td><td>int              </td><td>enum     </td><td>int                </td><td>int               </td><td>int              </td><td>int               </td><td>int               </td><td>enum    </td><td>enum  </td><td>int              </td><td>int              </td><td>int              </td><td>int                 </td><td>enum              </td><td>int                  </td><td>int               </td><td>int                </td><td>int               </td><td>int                 </td><td>int                </td><td>enum          </td><td>enum          </td></tr>\n",
       "<tr><td>mins   </td><td>1987.0            </td><td>1.0               </td><td>1.0               </td><td>1.0               </td><td>1.0               </td><td>0.0               </td><td>1.0               </td><td>0.0              </td><td>               </td><td>1.0              </td><td>         </td><td>16.0               </td><td>17.0              </td><td>14.0             </td><td>-56.0             </td><td>-16.0             </td><td>        </td><td>      </td><td>11.0             </td><td>0.0              </td><td>0.0              </td><td>0.0                 </td><td>                  </td><td>0.0                  </td><td>0.0               </td><td>0.0                </td><td>0.0               </td><td>0.0                 </td><td>0.0                </td><td>              </td><td>              </td></tr>\n",
       "<tr><td>mean   </td><td>1997.4831655084402</td><td>1.4064104382357123</td><td>14.584002269181731</td><td>3.819741880584329 </td><td>1346.6609474510713</td><td>1313.8833640618238</td><td>1505.6385925018915</td><td>1485.912806694091</td><td>               </td><td>820.9546447312448</td><td>         </td><td>124.77907993702999 </td><td>124.95562868815273</td><td>114.453881278539 </td><td>9.370853011486222 </td><td>10.049931660220382</td><td>        </td><td>      </td><td>729.7236651622262</td><td>5.380203680543146</td><td>14.17664135774899</td><td>0.024620621188483904</td><td>                  </td><td>0.0024110055311303362</td><td>1.5109629839739074</td><td>0.31586322869955147</td><td>4.713565022421537 </td><td>0.018497757847533634</td><td>7.56109865470851   </td><td>              </td><td>              </td></tr>\n",
       "<tr><td>maxs   </td><td>2008.0            </td><td>10.0              </td><td>31.0              </td><td>7.0               </td><td>2400.0            </td><td>2359.0            </td><td>2400.0            </td><td>2359.0           </td><td>               </td><td>3948.0           </td><td>         </td><td>451.0              </td><td>437.0             </td><td>402.0            </td><td>475.0             </td><td>473.0             </td><td>        </td><td>      </td><td>3365.0           </td><td>128.0            </td><td>254.0            </td><td>1.0                 </td><td>                  </td><td>1.0                  </td><td>285.0             </td><td>201.0              </td><td>323.0             </td><td>14.0                </td><td>373.0              </td><td>              </td><td>              </td></tr>\n",
       "<tr><td>sigma  </td><td>6.3361333990532245</td><td>1.8688562189965305</td><td>9.169051694229836 </td><td>1.9106929912141355</td><td>465.2889932126695 </td><td>476.18013786423774</td><td>484.0922645749465 </td><td>492.548930763574 </td><td>               </td><td>778.5843238476238</td><td>         </td><td>73.96937479892884  </td><td>73.3475999432376  </td><td>69.72373724308511</td><td>30.092219695702436</td><td>26.628358637440805</td><td>        </td><td>      </td><td>577.969329793074 </td><td>4.261275831771766</td><td>9.888146568389702</td><td>0.15496814958037275 </td><td>                  </td><td>0.04904345836226381  </td><td>7.334473801936143 </td><td>4.80174641615539   </td><td>18.247371783397135</td><td>0.429396064855679   </td><td>23.65009281413596  </td><td>              </td><td>              </td></tr>\n",
       "<tr><td>zeros  </td><td>0                 </td><td>0                 </td><td>0                 </td><td>0                 </td><td>0                 </td><td>460               </td><td>0                 </td><td>460              </td><td>               </td><td>0                </td><td>         </td><td>0                  </td><td>0                 </td><td>0                </td><td>1216              </td><td>5166              </td><td>        </td><td>      </td><td>0                </td><td>488              </td><td>437              </td><td>34387               </td><td>                  </td><td>35170                </td><td>29224             </td><td>7062               </td><td>5931              </td><td>7120                </td><td>5727               </td><td>              </td><td>              </td></tr>\n",
       "<tr><td>missing</td><td>0                 </td><td>0                 </td><td>0                 </td><td>0                 </td><td>868               </td><td>0                 </td><td>953               </td><td>0                </td><td>0              </td><td>0                </td><td>27       </td><td>953                </td><td>7                 </td><td>13355            </td><td>953               </td><td>868               </td><td>0       </td><td>0     </td><td>26               </td><td>12867            </td><td>12865            </td><td>0                   </td><td>7801              </td><td>0                    </td><td>0                 </td><td>28119              </td><td>28119             </td><td>28119               </td><td>28119              </td><td>0             </td><td>0             </td></tr>\n",
       "<tr><td>0      </td><td>2004.0            </td><td>1.0               </td><td>12.0              </td><td>1.0               </td><td>623.0             </td><td>630.0             </td><td>901.0             </td><td>915.0            </td><td>UA             </td><td>462.0            </td><td>N805UA   </td><td>98.0               </td><td>105.0             </td><td>80.0             </td><td>-14.0             </td><td>-7.0              </td><td>ORD     </td><td>CLT   </td><td>599.0            </td><td>7.0              </td><td>11.0             </td><td>0.0                 </td><td>                  </td><td>0.0                  </td><td>0.0               </td><td>0.0                </td><td>0.0               </td><td>0.0                 </td><td>0.0                </td><td>NO            </td><td>NO            </td></tr>\n",
       "<tr><td>1      </td><td>2004.0            </td><td>1.0               </td><td>13.0              </td><td>2.0               </td><td>621.0             </td><td>630.0             </td><td>911.0             </td><td>915.0            </td><td>UA             </td><td>462.0            </td><td>N851UA   </td><td>110.0              </td><td>105.0             </td><td>78.0             </td><td>-4.0              </td><td>-9.0              </td><td>ORD     </td><td>CLT   </td><td>599.0            </td><td>16.0             </td><td>16.0             </td><td>0.0                 </td><td>                  </td><td>0.0                  </td><td>0.0               </td><td>0.0                </td><td>0.0               </td><td>0.0                 </td><td>0.0                </td><td>NO            </td><td>NO            </td></tr>\n",
       "<tr><td>2      </td><td>2004.0            </td><td>1.0               </td><td>14.0              </td><td>3.0               </td><td>633.0             </td><td>630.0             </td><td>920.0             </td><td>915.0            </td><td>UA             </td><td>462.0            </td><td>N436UA   </td><td>107.0              </td><td>105.0             </td><td>88.0             </td><td>5.0               </td><td>3.0               </td><td>ORD     </td><td>CLT   </td><td>599.0            </td><td>4.0              </td><td>15.0             </td><td>0.0                 </td><td>                  </td><td>0.0                  </td><td>0.0               </td><td>0.0                </td><td>0.0               </td><td>0.0                 </td><td>0.0                </td><td>YES           </td><td>YES           </td></tr>\n",
       "<tr><td>3      </td><td>2004.0            </td><td>1.0               </td><td>15.0              </td><td>4.0               </td><td>627.0             </td><td>630.0             </td><td>859.0             </td><td>915.0            </td><td>UA             </td><td>462.0            </td><td>N828UA   </td><td>92.0               </td><td>105.0             </td><td>78.0             </td><td>-16.0             </td><td>-3.0              </td><td>ORD     </td><td>CLT   </td><td>599.0            </td><td>4.0              </td><td>10.0             </td><td>0.0                 </td><td>                  </td><td>0.0                  </td><td>0.0               </td><td>0.0                </td><td>0.0               </td><td>0.0                 </td><td>0.0                </td><td>NO            </td><td>NO            </td></tr>\n",
       "<tr><td>4      </td><td>2004.0            </td><td>1.0               </td><td>16.0              </td><td>5.0               </td><td>635.0             </td><td>630.0             </td><td>918.0             </td><td>915.0            </td><td>UA             </td><td>462.0            </td><td>N831UA   </td><td>103.0              </td><td>105.0             </td><td>87.0             </td><td>3.0               </td><td>5.0               </td><td>ORD     </td><td>CLT   </td><td>599.0            </td><td>3.0              </td><td>13.0             </td><td>0.0                 </td><td>                  </td><td>0.0                  </td><td>0.0               </td><td>0.0                </td><td>0.0               </td><td>0.0                 </td><td>0.0                </td><td>YES           </td><td>YES           </td></tr>\n",
       "<tr><td>5      </td><td>2004.0            </td><td>1.0               </td><td>17.0              </td><td>6.0               </td><td>628.0             </td><td>630.0             </td><td>905.0             </td><td>915.0            </td><td>UA             </td><td>462.0            </td><td>N834UA   </td><td>97.0               </td><td>105.0             </td><td>81.0             </td><td>-10.0             </td><td>-2.0              </td><td>ORD     </td><td>CLT   </td><td>599.0            </td><td>5.0              </td><td>11.0             </td><td>0.0                 </td><td>                  </td><td>0.0                  </td><td>0.0               </td><td>0.0                </td><td>0.0               </td><td>0.0                 </td><td>0.0                </td><td>NO            </td><td>NO            </td></tr>\n",
       "<tr><td>6      </td><td>2004.0            </td><td>1.0               </td><td>19.0              </td><td>1.0               </td><td>650.0             </td><td>630.0             </td><td>944.0             </td><td>915.0            </td><td>UA             </td><td>462.0            </td><td>N840UA   </td><td>114.0              </td><td>105.0             </td><td>100.0            </td><td>29.0              </td><td>20.0              </td><td>ORD     </td><td>CLT   </td><td>599.0            </td><td>3.0              </td><td>11.0             </td><td>0.0                 </td><td>                  </td><td>0.0                  </td><td>20.0              </td><td>0.0                </td><td>9.0               </td><td>0.0                 </td><td>0.0                </td><td>YES           </td><td>YES           </td></tr>\n",
       "<tr><td>7      </td><td>2004.0            </td><td>1.0               </td><td>20.0              </td><td>2.0               </td><td>627.0             </td><td>630.0             </td><td>904.0             </td><td>915.0            </td><td>UA             </td><td>462.0            </td><td>N454UA   </td><td>97.0               </td><td>105.0             </td><td>84.0             </td><td>-11.0             </td><td>-3.0              </td><td>ORD     </td><td>CLT   </td><td>599.0            </td><td>3.0              </td><td>10.0             </td><td>0.0                 </td><td>                  </td><td>0.0                  </td><td>0.0               </td><td>0.0                </td><td>0.0               </td><td>0.0                 </td><td>0.0                </td><td>NO            </td><td>NO            </td></tr>\n",
       "<tr><td>8      </td><td>2004.0            </td><td>1.0               </td><td>21.0              </td><td>3.0               </td><td>623.0             </td><td>630.0             </td><td>903.0             </td><td>915.0            </td><td>UA             </td><td>462.0            </td><td>N808UA   </td><td>100.0              </td><td>105.0             </td><td>76.0             </td><td>-12.0             </td><td>-7.0              </td><td>ORD     </td><td>CLT   </td><td>599.0            </td><td>16.0             </td><td>8.0              </td><td>0.0                 </td><td>                  </td><td>0.0                  </td><td>0.0               </td><td>0.0                </td><td>0.0               </td><td>0.0                 </td><td>0.0                </td><td>NO            </td><td>NO            </td></tr>\n",
       "<tr><td>9      </td><td>2004.0            </td><td>1.0               </td><td>22.0              </td><td>4.0               </td><td>626.0             </td><td>630.0             </td><td>901.0             </td><td>915.0            </td><td>UA             </td><td>462.0            </td><td>N832UA   </td><td>95.0               </td><td>105.0             </td><td>77.0             </td><td>-14.0             </td><td>-4.0              </td><td>ORD     </td><td>CLT   </td><td>599.0            </td><td>4.0              </td><td>14.0             </td><td>0.0                 </td><td>                  </td><td>0.0                  </td><td>0.0               </td><td>0.0                </td><td>0.0               </td><td>0.0                 </td><td>0.0                </td><td>NO            </td><td>NO            </td></tr>\n",
       "</tbody>\n",
       "</table>"
      ]
     },
     "metadata": {},
     "output_type": "display_data"
    }
   ],
   "source": [
    "train.describe()\n",
    "train2.describe()"
   ]
  },
  {
   "cell_type": "markdown",
   "metadata": {},
   "source": [
    "Now that we have imputed the train data with our GBM, we must impute the validation and test sets."
   ]
  }
 ],
 "metadata": {
  "kernelspec": {
   "display_name": "Python 3",
   "language": "python",
   "name": "python3"
  },
  "language_info": {
   "codemirror_mode": {
    "name": "ipython",
    "version": 3
   },
   "file_extension": ".py",
   "mimetype": "text/x-python",
   "name": "python",
   "nbconvert_exporter": "python",
   "pygments_lexer": "ipython3",
   "version": "3.6.8"
  }
 },
 "nbformat": 4,
 "nbformat_minor": 2
}
